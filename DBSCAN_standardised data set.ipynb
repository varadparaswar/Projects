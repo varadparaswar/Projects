{
 "cells": [
  {
   "cell_type": "code",
   "execution_count": 1,
   "id": "7c00025f",
   "metadata": {},
   "outputs": [],
   "source": [
    "import pandas as pd\n",
    "import numpy as np\n",
    "import time\n",
    "import csv\n",
    "from copy import deepcopy\n",
    "import matplotlib.pyplot as plt\n",
    "import time"
   ]
  },
  {
   "cell_type": "markdown",
   "id": "ed42a7a2",
   "metadata": {},
   "source": [
    "Importing and cleaning data"
   ]
  },
  {
   "cell_type": "code",
   "execution_count": 2,
   "id": "595906f4",
   "metadata": {},
   "outputs": [],
   "source": [
    "#appending data in dictionaru with unique ID number as key and attribute list as dictionary\n",
    "data={}\n",
    "i=-1\n",
    "with open('diabetes1.arff') as a:\n",
    "    r=csv.reader(a)\n",
    "    for line in r:\n",
    "        try:\n",
    "            x=int(line[0])\n",
    "            i+=1\n",
    "            data[i]=[]\n",
    "            for num in line:\n",
    "                if num!='tested_positive' or num!='tested_negative':\n",
    "                    data[i].append(float(num))\n",
    "        except:\n",
    "            i=i"
   ]
  },
  {
   "cell_type": "markdown",
   "id": "f801c107",
   "metadata": {},
   "source": [
    "Creating dataframe in pandas"
   ]
  },
  {
   "cell_type": "code",
   "execution_count": 3,
   "id": "4c9fae61",
   "metadata": {},
   "outputs": [],
   "source": [
    "df_data=[]\n",
    "for point in data:\n",
    "    df_data.append(data[point])\n",
    "col=['att1','att2','att3','att4','att5','att6','att7','att8']"
   ]
  },
  {
   "cell_type": "code",
   "execution_count": 4,
   "id": "16168a02",
   "metadata": {},
   "outputs": [],
   "source": [
    "df=pd.DataFrame(df_data,columns =col)"
   ]
  },
  {
   "cell_type": "markdown",
   "id": "ce35e789",
   "metadata": {},
   "source": [
    "Standardising data"
   ]
  },
  {
   "cell_type": "code",
   "execution_count": 5,
   "id": "462c690f",
   "metadata": {},
   "outputs": [],
   "source": [
    "df1=((df-df.mean())/df.std())"
   ]
  },
  {
   "cell_type": "code",
   "execution_count": 6,
   "id": "2ab7d070",
   "metadata": {},
   "outputs": [],
   "source": [
    "data1=np.array(df1)"
   ]
  },
  {
   "cell_type": "markdown",
   "id": "f287be4a",
   "metadata": {},
   "source": [
    "Creating distance matrix for reference"
   ]
  },
  {
   "cell_type": "code",
   "execution_count": 7,
   "id": "c3899074",
   "metadata": {},
   "outputs": [],
   "source": [
    "distance=np.ones((len(data1),len(data1)))"
   ]
  },
  {
   "cell_type": "markdown",
   "id": "47d01fde",
   "metadata": {},
   "source": [
    "Creating function to calculate eucledian distance between two points"
   ]
  },
  {
   "cell_type": "code",
   "execution_count": 8,
   "id": "57d7a7a2",
   "metadata": {},
   "outputs": [],
   "source": [
    "def d_cal(a,b):\n",
    "    global data1\n",
    "    a_val=data1[a]\n",
    "    b_val=data1[b]\n",
    "    out=[]\n",
    "    for i in range(len(data[a])):\n",
    "        y=(a_val[i]-b_val[i])**2\n",
    "        out.append(y)\n",
    "    \n",
    "    return (sum(out)**0.5)"
   ]
  },
  {
   "cell_type": "code",
   "execution_count": 9,
   "id": "8deca832",
   "metadata": {},
   "outputs": [],
   "source": [
    "for i in range(len(data1)):\n",
    "    for j in range(len(data1)):\n",
    "        distance[i][j]=d_cal(i,j)"
   ]
  },
  {
   "cell_type": "code",
   "execution_count": 10,
   "id": "e03dd8cc",
   "metadata": {},
   "outputs": [],
   "source": [
    "i=0\n",
    "data={}\n",
    "for row in data1:\n",
    "    data[i]=list(row)\n",
    "    i+=1"
   ]
  },
  {
   "cell_type": "markdown",
   "id": "e4dd70f0",
   "metadata": {},
   "source": [
    "Creating object for each data point"
   ]
  },
  {
   "cell_type": "code",
   "execution_count": 11,
   "id": "5f68b245",
   "metadata": {},
   "outputs": [],
   "source": [
    "class d_point:\n",
    "    #unique id argument to create object\n",
    "    def __init__(self,id):\n",
    "        self.id=id\n",
    "        #individual cluster contain point itselt before iteration\n",
    "        self.cluster=[id]\n",
    "        #this is to be updated later as peer result\n",
    "        self.core=False\n",
    "        self.border=False\n",
    "        self.outlier=False"
   ]
  },
  {
   "cell_type": "code",
   "execution_count": 12,
   "id": "c90be21e",
   "metadata": {},
   "outputs": [],
   "source": [
    "#creating objects using above class\n",
    "#creating object list of points\n",
    "d_obj=[]\n",
    "for point in data:\n",
    "    obj=d_point(point)\n",
    "    d_obj.append(obj)"
   ]
  },
  {
   "cell_type": "code",
   "execution_count": 13,
   "id": "54266734",
   "metadata": {},
   "outputs": [],
   "source": [
    "#creating function to find point in object list\n",
    "def obj_finder(id):\n",
    "    global d_obj\n",
    "    for obj in d_obj:\n",
    "        if obj.id==id:\n",
    "            return obj\n",
    "    "
   ]
  },
  {
   "cell_type": "code",
   "execution_count": 14,
   "id": "964aeed8",
   "metadata": {},
   "outputs": [],
   "source": [
    "#this functions checks for each point in given eps radius\n",
    "def cluster_maker(eps):\n",
    "    global distance\n",
    "    for row in range(distance.shape[0]):\n",
    "        obj=obj_finder(row)\n",
    "        for col in range(len(range(distance.shape[0]))):\n",
    "            obj2=obj_finder(col)\n",
    "            #if distace is less than or equal eps then added to cluster list \n",
    "            if distance[row][col]<=eps:\n",
    "                if row not in obj2.cluster:\n",
    "                    obj2.cluster.append(row)\n",
    "            obj2.cluster.sort()\n",
    "    return d_obj\n",
    "                \n"
   ]
  },
  {
   "cell_type": "code",
   "execution_count": 15,
   "id": "314d78c4",
   "metadata": {
    "scrolled": false
   },
   "outputs": [],
   "source": [
    "def combine(temp,ob_list,ite,border):\n",
    "    for i in range(ite):\n",
    "        for obj1 in ob_list:\n",
    "            if obj1.id not in border:\n",
    "                if temp.intersection(set(obj1.cluster)):\n",
    "                    temp=temp.union(set(obj1.cluster))\n",
    "                    obj1.cluster=[]\n",
    "        return list(temp)\n",
    "\n",
    "def iterator(eps,k):\n",
    "    #eps:radius of circle\n",
    "    #k: number of minimum points required in that radius\n",
    "    #getting circle data for each point(number point wuithin radius for every point)\n",
    "    out2=cluster_maker(eps)\n",
    "    out=deepcopy(out2)\n",
    "    #creating result list which will contain each cluster list\n",
    "    result=[]\n",
    "    #list for all core points\n",
    "    core=[]\n",
    "    #list for suspected border points\n",
    "    border=[]\n",
    "    \n",
    "   \n",
    "    #if point contains points less than minimum number of pointn within radius then it may be border or noise point\n",
    "    for obj in out:\n",
    "        if len(obj.cluster)<k:\n",
    "                border.append(obj.id)\n",
    "    #if number point is more than or qual to minimum points then it is core point\n",
    "    for obj in out:\n",
    "        #appending that id in core list\n",
    "        if len(obj.cluster)>=k:\n",
    "            core.append(obj.id)\n",
    "            \n",
    "    #removing border points to avoid it to co be conder as core point\n",
    "    for obj in out:\n",
    "        for point in obj.cluster:\n",
    "            if point in border:\n",
    "                obj.cluster.remove(point)\n",
    "                \n",
    "    #creating clusters by combining clusters by set operation\n",
    "    for obj in out:\n",
    "        if obj.id not in border:\n",
    "            temp=set(obj.cluster).intersection(core)\n",
    "            x=combine(temp,out,5,border)\n",
    "            #print(x)\n",
    "            if x not in result:\n",
    "                result.append(x)\n",
    "  \n",
    "    #again performing set operation on lists in result to avoid repetation of points \n",
    "    result1=[]\n",
    "    for j in range(len(result)):\n",
    "        o=[]\n",
    "        o.extend(result[j])\n",
    "        for i in range(2):\n",
    "            for i in range(len(result)):\n",
    "                if set(o).intersection(set(result[i])):\n",
    "                    o=list(set(o).union(set(result[i])))\n",
    "                    \n",
    "        if o not in result1:\n",
    "            result1.append(o)\n",
    "            \n",
    "    result=result1\n",
    "    return result,out2,border,core\n",
    "    \n"
   ]
  },
  {
   "cell_type": "code",
   "execution_count": 16,
   "id": "8073fc48",
   "metadata": {},
   "outputs": [],
   "source": [
    "result2,obj_list2,border,core=iterator(2,5)"
   ]
  },
  {
   "cell_type": "code",
   "execution_count": 17,
   "id": "59308385",
   "metadata": {},
   "outputs": [],
   "source": [
    "border2=deepcopy(border)\n",
    "#it is list of suspspected border points\n",
    "#thare are outliers and border points in this list\n"
   ]
  },
  {
   "cell_type": "code",
   "execution_count": 18,
   "id": "ddb99676",
   "metadata": {},
   "outputs": [],
   "source": [
    "result=deepcopy(result2)\n",
    "#defining function for detrmining border points\n",
    "def min_for_border(eps):\n",
    "    global obj_list\n",
    "    global border2\n",
    "    global core\n",
    "    global distance\n",
    "    global result\n",
    "    outlier=[]\n",
    "    #print(border2)\n",
    "    for point in border2:\n",
    "        temp=999999\n",
    "        p=100000\n",
    "        #checking each point in border point in cluster to check if any core point is present\n",
    "        for point1 in core:\n",
    "            #if there are multiple core points from different clusters then border point is assigned to nearest point cluster\n",
    "            if distance[point][point1]<temp:\n",
    "                temp=distance[point][point1]\n",
    "                p=point1\n",
    "                \n",
    "        if temp<eps:\n",
    "            #updating cluster in result with border point \n",
    "            for l in result:\n",
    "                if p in l:\n",
    "                    if point not in l:\n",
    "                        l.append(point)\n",
    "                       \n",
    "        else:\n",
    "            #if above is not satisfied then point is appebnded in outlier list\n",
    "            outlier.append(point)\n",
    "            \n",
    "    noise_and_border=[]\n",
    "    border_points=[]\n",
    "    #differentiating border point from suspected border points\n",
    "    for point in outlier:\n",
    "        if point not in border2:\n",
    "            border_points.append(point)\n",
    "        else:\n",
    "            border2.remove(point)\n",
    "            \n",
    "    noise_and_border.append(outlier)\n",
    "    noise_and_border.append(border2)\n",
    "    #returning lists of clusters, border points and noise points\n",
    "    return result,noise_and_border\n",
    "    #print(outlier)\n",
    "            \n",
    "            \n",
    "            "
   ]
  },
  {
   "cell_type": "code",
   "execution_count": 19,
   "id": "06c9ab74",
   "metadata": {},
   "outputs": [],
   "source": [
    "result,noise_and_border=min_for_border(2)\n",
    "noise_points=noise_and_border[0]\n",
    "border_points=noise_and_border[1]"
   ]
  },
  {
   "cell_type": "code",
   "execution_count": 20,
   "id": "634ffc1b",
   "metadata": {},
   "outputs": [
    {
     "name": "stdout",
     "output_type": "stream",
     "text": [
      "cluster 1 population: 702 \n",
      "cluster 2 population: 24 \n",
      "cluster 3 population: 7 \n",
      "\n",
      "Total number of noise points: 35\n",
      "Total number of border points: 48\n"
     ]
    }
   ],
   "source": [
    "#reult\n",
    "result.remove([])\n",
    "i=0\n",
    "for l in result:\n",
    "    if len(l)!=0:\n",
    "        i+=1\n",
    "        print(f'cluster {i} population: {len(l)} ')\n",
    "print()\n",
    "print(f'Total number of noise points: {len(noise_points)}')\n",
    "print(f'Total number of border points: {len(border_points)}')"
   ]
  },
  {
   "cell_type": "code",
   "execution_count": 23,
   "id": "5a7c4a32",
   "metadata": {},
   "outputs": [
    {
     "name": "stdout",
     "output_type": "stream",
     "text": [
      "IDs of border points in cluster 2\n",
      "332\n",
      "336\n",
      "604\n"
     ]
    }
   ],
   "source": [
    "#dispalying all border points in cluster 2\n",
    "print('IDs of border points in cluster 2')\n",
    "for point in result[1]:\n",
    "    if point in border2:\n",
    "        print(point)\n",
    "     "
   ]
  },
  {
   "cell_type": "code",
   "execution_count": 24,
   "id": "afeb92a5",
   "metadata": {},
   "outputs": [
    {
     "name": "stdout",
     "output_type": "stream",
     "text": [
      "IDs of Core points in cluster 2\n",
      "643\n",
      "261\n",
      "7\n",
      "266\n",
      "269\n",
      "15\n",
      "533\n",
      "535\n",
      "300\n",
      "430\n",
      "435\n",
      "697\n",
      "703\n",
      "589\n",
      "78\n",
      "468\n",
      "601\n",
      "347\n",
      "222\n",
      "484\n",
      "619\n"
     ]
    }
   ],
   "source": [
    "#displaying all core points in cluster 2\n",
    "print('IDs of Core points in cluster 2')\n",
    "for point in result[1]:\n",
    "    if point in core:\n",
    "        print(point)"
   ]
  },
  {
   "cell_type": "code",
   "execution_count": null,
   "id": "c4a228ec",
   "metadata": {},
   "outputs": [],
   "source": []
  }
 ],
 "metadata": {
  "kernelspec": {
   "display_name": "Python 3",
   "language": "python",
   "name": "python3"
  },
  "language_info": {
   "codemirror_mode": {
    "name": "ipython",
    "version": 3
   },
   "file_extension": ".py",
   "mimetype": "text/x-python",
   "name": "python",
   "nbconvert_exporter": "python",
   "pygments_lexer": "ipython3",
   "version": "3.8.8"
  }
 },
 "nbformat": 4,
 "nbformat_minor": 5
}
