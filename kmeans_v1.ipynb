{
 "cells": [
  {
   "cell_type": "markdown",
   "metadata": {},
   "source": [
    "K means is a non supervised clustering algorithm. It works well with data having less outliers.\n",
    "In below project I have tried this algorithm on breast cancer dataset."
   ]
  },
  {
   "cell_type": "code",
   "execution_count": 14,
   "metadata": {},
   "outputs": [],
   "source": [
    "import numpy as np\n",
    "import pandas as pd\n",
    "import matplotlib.pyplot as plt"
   ]
  },
  {
   "cell_type": "code",
   "execution_count": 57,
   "metadata": {},
   "outputs": [],
   "source": [
    "import scipy.stats as stats\n",
    "import seaborn as sns\n",
    "from sklearn.preprocessing import FunctionTransformer\n",
    "from sklearn.compose import ColumnTransformer\n",
    "from sklearn.impute import SimpleImputer\n",
    "from sklearn.preprocessing import MinMaxScaler\n",
    "from sklearn.cluster import KMeans\n",
    "from sklearn.decomposition import PCA\n",
    "from sklearn.metrics import silhouette_score"
   ]
  },
  {
   "cell_type": "code",
   "execution_count": 16,
   "metadata": {},
   "outputs": [],
   "source": [
    "data=pd.read_csv('BR.csv')"
   ]
  },
  {
   "cell_type": "code",
   "execution_count": 17,
   "metadata": {},
   "outputs": [
    {
     "name": "stdout",
     "output_type": "stream",
     "text": [
      "Index(['att_0', 'att_1', 'att_2', 'att_3', 'att_4', 'att_5', 'att_6', 'att_7',\n",
      "       'att_8', 'att_9', 'att_10', 'att_11', 'att_12', 'att_13', 'att_14',\n",
      "       'att_15', 'att_16', 'att_17', 'att_18', 'att_19', 'att_20', 'att_21',\n",
      "       'att_22', 'att_23', 'att_24'],\n",
      "      dtype='object')\n"
     ]
    }
   ],
   "source": [
    "data.columns=[f'att_{i}' for i in range(data.shape[1])]\n",
    "print(data.columns)"
   ]
  },
  {
   "cell_type": "code",
   "execution_count": 18,
   "metadata": {},
   "outputs": [],
   "source": [
    "skew_dict={f'att_{i}:{data[col].skew()}' for i,col in enumerate(data.columns)}\n"
   ]
  },
  {
   "cell_type": "code",
   "execution_count": 19,
   "metadata": {},
   "outputs": [],
   "source": [
    "att_2_missing = SimpleImputer(missing_values=np.nan, strategy='most_frequent')\n",
    "att_3_missing = SimpleImputer(missing_values=np.nan, strategy='mean')\n",
    "att_4_missing = SimpleImputer(missing_values=np.nan, strategy='mean')\n",
    "att_5_missing = SimpleImputer(missing_values=np.nan, strategy='median')\n",
    "att_7_missing = SimpleImputer(missing_values=np.nan, strategy='mean')\n",
    "att_8_missing = SimpleImputer(missing_values=np.nan, strategy='mean')\n",
    "att_9_missing = SimpleImputer(missing_values=np.nan, strategy='median')\n",
    "att_10_missing = SimpleImputer(missing_values=np.nan, strategy='most_frequent')\n",
    "att_11_missing = SimpleImputer(missing_values=np.nan, strategy='most_frequent')\n",
    "att_12_missing = SimpleImputer(missing_values=np.nan, strategy='most_frequent')\n",
    "att_13_missing = SimpleImputer(missing_values=np.nan, strategy='mean')\n",
    "att_14_missing = SimpleImputer(missing_values=np.nan, strategy='most_frequent')\n",
    "att_15_missing = SimpleImputer(missing_values=np.nan, strategy='mean')\n",
    "att_16_missing = SimpleImputer(missing_values=np.nan, strategy='most_frequent')\n",
    "att_17_missing = SimpleImputer(missing_values=np.nan, strategy='mean')\n",
    "att_18_missing = SimpleImputer(missing_values=np.nan, strategy='mean')\n",
    "att_22_missing = SimpleImputer(missing_values=np.nan, strategy='mean')"
   ]
  },
  {
   "cell_type": "code",
   "execution_count": 20,
   "metadata": {},
   "outputs": [],
   "source": [
    "missing_imputer = ColumnTransformer(transformers=[\n",
    "    ('tnf2',att_2_missing,['att_2']),\n",
    "    ('tnf3',att_3_missing,['att_3']),\n",
    "    ('tnf4',att_4_missing,['att_4']),\n",
    "    ('tnf5',att_5_missing,['att_5']),\n",
    "    ('tnf7',att_7_missing,['att_7']),\n",
    "    ('tnf8',att_8_missing,['att_8']),\n",
    "    ('tnf9',att_9_missing,['att_9']),\n",
    "    ('tnf10',att_10_missing,['att_10']),\n",
    "    ('tnf11',att_11_missing,['att_11']),\n",
    "    ('tnf12',att_12_missing,['att_12']),\n",
    "    ('tnf13',att_13_missing,['att_13']),\n",
    "    ('tnf14',att_14_missing,['att_14']),\n",
    "    ('tnf15',att_15_missing,['att_15']),\n",
    "    ('tnf16',att_16_missing,['att_16']),\n",
    "    ('tnf17',att_17_missing,['att_17']),\n",
    "    ('tnf18',att_18_missing,['att_18']),\n",
    "    ('tnf22',att_22_missing,['att_22']),\n",
    "],remainder='passthrough')"
   ]
  },
  {
   "cell_type": "code",
   "execution_count": 21,
   "metadata": {},
   "outputs": [],
   "source": [
    "processed_data_1=pd.DataFrame(missing_imputer.fit_transform(data),columns = data.columns)\n",
    "\n"
   ]
  },
  {
   "cell_type": "code",
   "execution_count": 22,
   "metadata": {},
   "outputs": [],
   "source": [
    "def outlier_modifier(df):\n",
    "    q1=df.describe()['25%']\n",
    "    q3=df.describe()['75%']\n",
    "    iqr=q3-q1\n",
    "    upper_limit=q3+1.5*iqr\n",
    "    lower_limit=q1-1.5*iqr\n",
    "    df = np.where(df >= upper_limit,\n",
    "        upper_limit,\n",
    "        np.where(df <= lower_limit,\n",
    "        lower_limit,\n",
    "        df))\n",
    "    return df\n",
    "    \n",
    "    "
   ]
  },
  {
   "cell_type": "code",
   "execution_count": 23,
   "metadata": {},
   "outputs": [],
   "source": [
    "for col in data.columns:\n",
    "    processed_data_1[col]=outlier_modifier(processed_data_1[col])\n",
    "    \n"
   ]
  },
  {
   "cell_type": "code",
   "execution_count": 24,
   "metadata": {},
   "outputs": [],
   "source": [
    "att_0_scalar = MinMaxScaler()\n",
    "att_4_scalar = MinMaxScaler()\n",
    "att_6_scalar = MinMaxScaler()\n",
    "att_8_scalar = FunctionTransformer(np.log1p)\n",
    "att_10_scalar = MinMaxScaler()\n",
    "att_11_scalar = FunctionTransformer(np.log1p)\n",
    "att_15_scalar = FunctionTransformer(np.log1p)\n",
    "att_17_scalar = MinMaxScaler()\n",
    "att_21_scalar = FunctionTransformer(np.log1p)\n",
    "att_22_scalar = MinMaxScaler()\n",
    "att_23_scalar = FunctionTransformer(np.log1p)\n",
    "att_24_scalar = FunctionTransformer(np.log1p)"
   ]
  },
  {
   "cell_type": "code",
   "execution_count": 25,
   "metadata": {},
   "outputs": [],
   "source": [
    "distribution_handler = ColumnTransformer(transformers=[\n",
    "    ('tnf_0',att_0_scalar,['att_0']),\n",
    "    ('tnf_4',att_4_scalar,['att_4']),\n",
    "    ('tnf_6',att_6_scalar,['att_6']),\n",
    "    ('tnf_8',att_8_scalar,['att_8']),\n",
    "    ('tnf_10',att_10_scalar,['att_10']),\n",
    "    ('tnf_11',att_11_scalar,['att_11']),\n",
    "    ('tnf_15',att_15_scalar,['att_15']),\n",
    "    ('tnf_17',att_17_scalar,['att_17']),\n",
    "    ('tnf_21',att_21_scalar,['att_21']),\n",
    "    ('tnf_22',att_22_scalar,['att_22']),\n",
    "    ('tnf_23',att_23_scalar,['att_23']),\n",
    "    ('tnf_24',att_24_scalar,['att_24']),\n",
    "\n",
    "],remainder='passthrough')"
   ]
  },
  {
   "cell_type": "code",
   "execution_count": 26,
   "metadata": {},
   "outputs": [],
   "source": [
    "processed_data_2=pd.DataFrame(distribution_handler.fit_transform(processed_data_1),\n",
    "                              columns = processed_data_1.columns)"
   ]
  },
  {
   "cell_type": "code",
   "execution_count": 44,
   "metadata": {},
   "outputs": [
    {
     "data": {
      "text/plain": [
       "PCA()"
      ]
     },
     "execution_count": 44,
     "metadata": {},
     "output_type": "execute_result"
    }
   ],
   "source": [
    "f=PCA()\n",
    "f.fit(processed_data_2)\n"
   ]
  },
  {
   "cell_type": "code",
   "execution_count": 49,
   "metadata": {},
   "outputs": [
    {
     "data": {
      "text/plain": [
       "Text(0, 0.5, 'Cumulative variance ratio')"
      ]
     },
     "execution_count": 49,
     "metadata": {},
     "output_type": "execute_result"
    },
    {
     "data": {
      "image/png": "[encoded data removed]",
      "text/plain": [
       "<Figure size 576x576 with 1 Axes>"
      ]
     },
     "metadata": {
      "needs_background": "light"
     },
     "output_type": "display_data"
    }
   ],
   "source": [
    "plt.figure(figsize=(8,8))\n",
    "f.explained_variance_ratio_.cumsum()\n",
    "plt.plot(f.explained_variance_ratio_.cumsum(),marker='o',linestyle='--')\n",
    "plt.title('Variance ratio explained')\n",
    "plt.xlabel('Number of components')\n",
    "plt.ylabel('Cumulative variance ratio')"
   ]
  },
  {
   "cell_type": "code",
   "execution_count": 65,
   "metadata": {},
   "outputs": [
    {
     "data": {
      "image/png": "[encoded data removed]",
      "text/plain": [
       "<Figure size 1440x360 with 2 Axes>"
      ]
     },
     "metadata": {
      "needs_background": "light"
     },
     "output_type": "display_data"
    }
   ],
   "source": [
    "fs=PCA(n_components=12)\n",
    "x=fs.fit_transform(processed_data_2)\n",
    "\n",
    "\n",
    "errors=[]\n",
    "sih=[]\n",
    "max_clusters=20\n",
    "for i in range(2,max_clusters+1):\n",
    "    n_clusters=i\n",
    "    model=KMeans(n_clusters=n_clusters, random_state=0).fit(x)\n",
    "    p=model.transform(x)\n",
    "    error=np.sum(np.min(p,axis=1))\n",
    "    errors.append(error)\n",
    "    sih.append(silhouette_score(x,model.labels_))\n",
    "\n",
    "plt.figure(figsize=(20,5))\n",
    "plt.subplot(1,2,1)\n",
    "plt.plot(range(2,max_clusters+1),errors,marker='o',color='blue')\n",
    "plt.title('Number of clusters vs SSE')\n",
    "plt.xlabel('Number of clusters')\n",
    "plt.ylabel('SSE')\n",
    "plt.subplot(1,2,2)\n",
    "plt.plot(range(2,max_clusters+1),sih,marker='o',color='red')\n",
    "plt.title('Number of clusters vs Silhoutte Score')\n",
    "plt.xlabel('Number of clusters')\n",
    "plt.ylabel('Silhoutte Score')\n",
    "plt.show()\n",
    "\n",
    "\n"
   ]
  },
  {
   "cell_type": "code",
   "execution_count": null,
   "metadata": {},
   "outputs": [],
   "source": []
  }
 ],
 "metadata": {
  "kernelspec": {
   "display_name": "Python 3.8.5 ('base')",
   "language": "python",
   "name": "python3"
  },
  "language_info": {
   "codemirror_mode": {
    "name": "ipython",
    "version": 3
   },
   "file_extension": ".py",
   "mimetype": "text/x-python",
   "name": "python",
   "nbconvert_exporter": "python",
   "pygments_lexer": "ipython3",
   "version": "3.8.5"
  },
  "orig_nbformat": 4,
  "vscode": {
   "interpreter": {
    "hash": "ad2bdc8ecc057115af97d19610ffacc2b4e99fae6737bb82f5d7fb13d2f2c186"
   }
  }
 },
 "nbformat": 4,
 "nbformat_minor": 2
}
